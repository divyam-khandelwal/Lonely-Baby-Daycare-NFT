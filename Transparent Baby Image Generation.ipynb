{
 "cells": [
  {
   "cell_type": "markdown",
   "id": "68bf8668",
   "metadata": {},
   "source": [
    "## Google Drive Authentication"
   ]
  },
  {
   "cell_type": "code",
   "execution_count": 1,
   "id": "c6667b6b",
   "metadata": {},
   "outputs": [
    {
     "name": "stdout",
     "output_type": "stream",
     "text": [
      "** Authentication Complete! **\n"
     ]
    }
   ],
   "source": [
    "import os.path\n",
    "\n",
    "from google.auth.transport.requests import Request\n",
    "from google.oauth2.credentials import Credentials\n",
    "from google_auth_oauthlib.flow import InstalledAppFlow\n",
    "from googleapiclient.discovery import build\n",
    "from googleapiclient.errors import HttpError\n",
    "from googleapiclient.http import MediaFileUpload\n",
    "\n",
    "# If modifying these scopes, delete the file token.json.\n",
    "SCOPES = ['https://www.googleapis.com/auth/drive', 'https://www.googleapis.com/auth/spreadsheets']\n",
    "\n",
    "\n",
    "creds = None\n",
    "# The file token.json stores the user's access and refresh tokens, and is\n",
    "# created automatically when the authorization flow completes for the first\n",
    "# time.\n",
    "if os.path.exists('token.json'):\n",
    "    creds = Credentials.from_authorized_user_file('token.json', SCOPES)\n",
    "# If there are no (valid) credentials available, let the user log in.\n",
    "if not creds or not creds.valid:\n",
    "    if creds and creds.expired and creds.refresh_token:\n",
    "        creds.refresh(Request())\n",
    "    else:\n",
    "        flow = InstalledAppFlow.from_client_secrets_file(\n",
    "            'credentials.json', SCOPES)\n",
    "        creds = flow.run_local_server(port=0)\n",
    "    # Save the credentials for the next run\n",
    "    with open('token.json', 'w') as token:\n",
    "        token.write(creds.to_json())\n",
    "\n",
    "try:\n",
    "    service = build('drive', 'v3', credentials=creds)\n",
    "    service_sheets = build('sheets', 'v4', credentials=creds)\n",
    "    \n",
    "    print(\"** Authentication Complete! **\")\n",
    "\n",
    "except HttpError as error:\n",
    "    # TODO(developer) - Handle errors from drive API.\n",
    "    print(f'An error occurred: {error}')"
   ]
  },
  {
   "cell_type": "markdown",
   "id": "9b746a75",
   "metadata": {},
   "source": [
    "## Read Spreadsheets"
   ]
  },
  {
   "cell_type": "code",
   "execution_count": 2,
   "id": "dc94d7c7",
   "metadata": {},
   "outputs": [],
   "source": [
    "from pathlib import Path\n",
    "import pandas as pd\n",
    "\n",
    "# Run this on update of either 1. layering order and 2. exclusions sheet\n",
    "sheet = service_sheets.spreadsheets()\n",
    "\n",
    "BABIES_TO_IMAGES_SPREADSHEET_ID = '1AgRmweMAzKK7MdHsT9i5ZaRyr7fdhMp2h3zmpab2A6k'\n",
    "\n",
    "result = sheet.values().get(spreadsheetId=BABIES_TO_IMAGES_SPREADSHEET_ID, range='A:B').execute()\n",
    "values = result.get('values', [])\n",
    "\n",
    "df = pd.DataFrame(values, columns=[\"filename\", \"picked_images\"])"
   ]
  },
  {
   "cell_type": "markdown",
   "id": "be5aa0e1",
   "metadata": {},
   "source": [
    "## Run this to generate transparent babies!"
   ]
  },
  {
   "cell_type": "code",
   "execution_count": 22,
   "id": "f94cf128",
   "metadata": {},
   "outputs": [],
   "source": [
    "import os\n",
    "from PIL import Image, ImageDraw, ImageChops\n",
    "\n",
    "transparent_babies_filepath = 'Transparent Babies'\n",
    "if not os.path.isdir(transparent_babies_filepath):\n",
    "    os.mkdir('Transparent Babies')\n",
    "    \n",
    "def generate_baby_image(picked_trait_images):\n",
    "    \n",
    "    # Layer the images \n",
    "    x, y = Image.open(picked_trait_images[0]).size\n",
    "#     final_baby_image = Image.new('RGB', (x, y), (228, 150, 150))\n",
    "    final_baby_image = Image.new('RGBA', (x, y))\n",
    "    \n",
    "    for trait_image in picked_trait_images:\n",
    "        chosen_image = Image.open(trait_image)\n",
    "        chosen_image = ImageChops.offset(chosen_image, 90, 0)\n",
    "        final_baby_image.paste(chosen_image, (0, 0), chosen_image)\n",
    "    \n",
    "    # Crop to increase baby appearance\n",
    "    final_baby_image = final_baby_image.crop((0, 140, final_baby_image.width - 140, final_baby_image.height))\n",
    "    \n",
    "    return final_baby_image\n",
    "\n",
    "    \n",
    "# get_transparent_baby_from_filename(\"0_lonely_baby.PNG\")\n",
    "def get_transparent_baby_from_filename(filename):\n",
    "    final_baby_image_file = 'transparent_{:s}'.format(filename)\n",
    "    if os.path.exists(os.path.join(transparent_babies_filepath, final_baby_image_file)):\n",
    "        return\n",
    "    \n",
    "    picked_images = df.loc[df['filename'] == filename, 'picked_images'].item()\n",
    "    picked_images_list = picked_images.split(',') \n",
    "    \n",
    "    final_baby_image = generate_baby_image(picked_images_list[1:])\n",
    "    final_baby_image.save(os.path.join(transparent_babies_filepath, final_baby_image_file))\n",
    "    \n",
    "    print(\"Completed \" + final_baby_image_file)"
   ]
  },
  {
   "cell_type": "code",
   "execution_count": 23,
   "id": "cb71458a",
   "metadata": {},
   "outputs": [
    {
     "name": "stdout",
     "output_type": "stream",
     "text": [
      "Completed transparent_1_lonely_baby.PNG\n"
     ]
    }
   ],
   "source": [
    "# get_transparent_baby_from_filename(\"1_lonely_baby.PNG\")"
   ]
  },
  {
   "cell_type": "markdown",
   "id": "b85a6fd7",
   "metadata": {},
   "source": [
    "## Check for duplicates"
   ]
  },
  {
   "cell_type": "code",
   "execution_count": 9,
   "id": "7955b506",
   "metadata": {},
   "outputs": [
    {
     "name": "stdout",
     "output_type": "stream",
     "text": [
      "['27_lonely_baby.PNG', '3269_lonely_baby.PNG'] \n",
      "\n",
      "['159_lonely_baby.PNG', '1369_lonely_baby.PNG', '5569_lonely_baby.PNG', '6615_lonely_baby.PNG', '9142_lonely_baby.PNG'] \n",
      "\n",
      "['200_lonely_baby.PNG', '1848_lonely_baby.PNG'] \n",
      "\n",
      "['950_lonely_baby.PNG', '7933_lonely_baby.PNG'] \n",
      "\n",
      "['1250_lonely_baby.PNG', '2030_lonely_baby.PNG'] \n",
      "\n",
      "['3076_lonely_baby.PNG', '5808_lonely_baby.PNG'] \n",
      "\n",
      "['3412_lonely_baby.PNG', '5737_lonely_baby.PNG'] \n",
      "\n",
      "['3490_lonely_baby.PNG', '4577_lonely_baby.PNG'] \n",
      "\n",
      "['3553_lonely_baby.PNG', '8441_lonely_baby.PNG'] \n",
      "\n",
      "['3702_lonely_baby.PNG', '9377_lonely_baby.PNG'] \n",
      "\n",
      "['4079_lonely_baby.PNG', '9170_lonely_baby.PNG'] \n",
      "\n",
      "['4284_lonely_baby.PNG', '7269_lonely_baby.PNG'] \n",
      "\n",
      "['9004_lonely_baby.PNG', '9259_lonely_baby.PNG'] \n",
      "\n"
     ]
    }
   ],
   "source": [
    "babies_to_images_dict = {}\n",
    "\n",
    "for val in values:\n",
    "    temp = val[1].split(',')[1:]\n",
    "    temp = ','.join(temp)\n",
    "    \n",
    "    if not temp in babies_to_images_dict:\n",
    "        babies_to_images_dict[temp] = []\n",
    "    babies_to_images_dict[temp].append(val[0])\n",
    "\n",
    "for key, val in babies_to_images_dict.items():\n",
    "    if len(val) > 1:\n",
    "        print(val, '\\n')"
   ]
  },
  {
   "cell_type": "markdown",
   "id": "e7b5a7e4",
   "metadata": {},
   "source": [
    "## Generate metadata files"
   ]
  },
  {
   "cell_type": "code",
   "execution_count": 17,
   "id": "5cfd4a2d",
   "metadata": {},
   "outputs": [],
   "source": [
    "import json\n",
    "from collections import OrderedDict\n",
    "\n",
    "base_link = \"https://gateway.pinata.cloud/ipfs/QmcXd4sBaAspgQcuhUrQvFA4aCA1djpygNexzTTEVMb2en/\"\n",
    "base_name = 'Lonely_Baby'\n",
    "\n",
    "def get_token_id(filename):\n",
    "    return int(filename.split('_')[0])\n",
    "\n",
    "def attribute_struct(key, value):\n",
    "    return {\n",
    "        \"trait_type\": key,\n",
    "        \"value\": value\n",
    "    }\n",
    "\n",
    "def build_attributes(picked_images):\n",
    "    attributes = []\n",
    "    picked_images_list = picked_images.split(',')\n",
    "    \n",
    "    for picked_image in picked_images_list:\n",
    "        trait_type, value = get_trait_type_and_value(picked_image)\n",
    "        attributes.append(attribute_struct(trait_type, value))\n",
    "    \n",
    "    return attributes\n",
    "\n",
    "def get_trait_type_and_value(picked_image):\n",
    "    return \"Background\", \"Black\"\n",
    "    \n",
    "for filename, picked_images in zip(df['filename'], df['picked_images']):\n",
    "    token_id = get_token_id(filename)\n",
    "\n",
    "    token = {\n",
    "        \"image\": base_link + filename,\n",
    "        \"tokenId\": token_id,\n",
    "        \"name\": base_name + ' ' + str(token_id)\n",
    "#         \"attributes\": []\n",
    "    }\n",
    "    \n",
    "    attributes = build_attributes(picked_images)\n",
    "    \n",
    "    token[\"attributes\"] = attributes\n",
    "    \n",
    "    with open('metadata/' + str(token_id) + \".json\", 'w') as outfile:\n",
    "        json.dump(token, outfile, indent=4)\n",
    "    break"
   ]
  },
  {
   "cell_type": "code",
   "execution_count": null,
   "id": "35bfd8e6",
   "metadata": {},
   "outputs": [],
   "source": []
  }
 ],
 "metadata": {
  "kernelspec": {
   "display_name": "Python 3 (ipykernel)",
   "language": "python",
   "name": "python3"
  },
  "language_info": {
   "codemirror_mode": {
    "name": "ipython",
    "version": 3
   },
   "file_extension": ".py",
   "mimetype": "text/x-python",
   "name": "python",
   "nbconvert_exporter": "python",
   "pygments_lexer": "ipython3",
   "version": "3.9.12"
  }
 },
 "nbformat": 4,
 "nbformat_minor": 5
}
