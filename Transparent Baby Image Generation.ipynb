{
 "cells": [
  {
   "cell_type": "markdown",
   "id": "f5d62bfc",
   "metadata": {},
   "source": [
    "## Google Drive Authentication"
   ]
  },
  {
   "cell_type": "code",
   "execution_count": 2,
   "id": "787a329d",
   "metadata": {},
   "outputs": [
    {
     "name": "stdout",
     "output_type": "stream",
     "text": [
      "** Authentication Complete! **\n"
     ]
    }
   ],
   "source": [
    "import os.path\n",
    "\n",
    "from google.auth.transport.requests import Request\n",
    "from google.oauth2.credentials import Credentials\n",
    "from google_auth_oauthlib.flow import InstalledAppFlow\n",
    "from googleapiclient.discovery import build\n",
    "from googleapiclient.errors import HttpError\n",
    "from googleapiclient.http import MediaFileUpload\n",
    "\n",
    "# If modifying these scopes, delete the file token.json.\n",
    "SCOPES = ['https://www.googleapis.com/auth/drive', 'https://www.googleapis.com/auth/spreadsheets']\n",
    "\n",
    "\n",
    "creds = None\n",
    "# The file token.json stores the user's access and refresh tokens, and is\n",
    "# created automatically when the authorization flow completes for the first\n",
    "# time.\n",
    "if os.path.exists('token.json'):\n",
    "    creds = Credentials.from_authorized_user_file('token.json', SCOPES)\n",
    "# If there are no (valid) credentials available, let the user log in.\n",
    "if not creds or not creds.valid:\n",
    "    if creds and creds.expired and creds.refresh_token:\n",
    "        creds.refresh(Request())\n",
    "    else:\n",
    "        flow = InstalledAppFlow.from_client_secrets_file(\n",
    "            'credentials.json', SCOPES)\n",
    "        creds = flow.run_local_server(port=0)\n",
    "    # Save the credentials for the next run\n",
    "    with open('token.json', 'w') as token:\n",
    "        token.write(creds.to_json())\n",
    "\n",
    "try:\n",
    "    service = build('drive', 'v3', credentials=creds)\n",
    "    service_sheets = build('sheets', 'v4', credentials=creds)\n",
    "    \n",
    "    print(\"** Authentication Complete! **\")\n",
    "\n",
    "except HttpError as error:\n",
    "    # TODO(developer) - Handle errors from drive API.\n",
    "    print(f'An error occurred: {error}')"
   ]
  },
  {
   "cell_type": "markdown",
   "id": "62b6395f",
   "metadata": {},
   "source": [
    "## Read Spreadsheets"
   ]
  },
  {
   "cell_type": "code",
   "execution_count": 5,
   "id": "bfb6f763",
   "metadata": {},
   "outputs": [],
   "source": [
    "from pathlib import Path\n",
    "import pandas as pd\n",
    "\n",
    "# Run this on update of either 1. layering order and 2. exclusions sheet\n",
    "sheet = service_sheets.spreadsheets()\n",
    "\n",
    "BABIES_TO_IMAGES_SPREADSHEET_ID = '1AgRmweMAzKK7MdHsT9i5ZaRyr7fdhMp2h3zmpab2A6k'\n",
    "\n",
    "result = sheet.values().get(spreadsheetId=BABIES_TO_IMAGES_SPREADSHEET_ID, range='A:B').execute()\n",
    "values = result.get('values', [])\n",
    "\n",
    "df = pd.DataFrame(values, columns=[\"filename\", \"picked_images\"])"
   ]
  },
  {
   "cell_type": "code",
   "execution_count": 22,
   "id": "d1c89eae",
   "metadata": {},
   "outputs": [],
   "source": [
    "import os\n",
    "from PIL import Image, ImageDraw, ImageChops\n",
    "\n",
    "transparent_babies_filepath = 'Transparent Babies'\n",
    "if not os.path.isdir(transparent_babies_filepath):\n",
    "    os.mkdir('Transparent Babies')\n",
    "    \n",
    "def generate_baby_image(picked_trait_images):\n",
    "    \n",
    "    # Layer the images \n",
    "    x, y = Image.open(picked_trait_images[0]).size\n",
    "#     final_baby_image = Image.new('RGB', (x, y), (228, 150, 150))\n",
    "    final_baby_image = Image.new('RGBA', (x, y))\n",
    "    \n",
    "    for trait_image in picked_trait_images:\n",
    "        chosen_image = Image.open(trait_image)\n",
    "        chosen_image = ImageChops.offset(chosen_image, 90, 0)\n",
    "        final_baby_image.paste(chosen_image, (0, 0), chosen_image)\n",
    "    \n",
    "    # Crop to increase baby appearance\n",
    "    final_baby_image = final_baby_image.crop((0, 140, final_baby_image.width - 140, final_baby_image.height))\n",
    "    \n",
    "    return final_baby_image\n",
    "\n",
    "    \n",
    "# get_transparent_baby_from_filename(\"0_lonely_baby.PNG\")\n",
    "def get_transparent_baby_from_filename(filename):\n",
    "    final_baby_image_file = 'transparent_{:s}'.format(filename)\n",
    "    if os.path.exists(os.path.join(transparent_babies_filepath, final_baby_image_file)):\n",
    "        return\n",
    "    \n",
    "    picked_images = df.loc[df['filename'] == filename, 'picked_images'].item()\n",
    "    picked_images_list = picked_images.split(',') \n",
    "    \n",
    "    final_baby_image = generate_baby_image(picked_images_list[1:])\n",
    "    final_baby_image.save(os.path.join(transparent_babies_filepath, final_baby_image_file))\n",
    "    \n",
    "    print(\"Completed \" + final_baby_image_file)"
   ]
  },
  {
   "cell_type": "markdown",
   "id": "318236df",
   "metadata": {},
   "source": [
    "## Run this to generate transparent babies!"
   ]
  },
  {
   "cell_type": "code",
   "execution_count": 23,
   "id": "c53db433",
   "metadata": {},
   "outputs": [
    {
     "name": "stdout",
     "output_type": "stream",
     "text": [
      "Completed transparent_1_lonely_baby.PNG\n"
     ]
    }
   ],
   "source": [
    "get_transparent_baby_from_filename(\"1_lonely_baby.PNG\")"
   ]
  },
  {
   "cell_type": "code",
   "execution_count": null,
   "id": "8172aa14",
   "metadata": {},
   "outputs": [],
   "source": []
  }
 ],
 "metadata": {
  "kernelspec": {
   "display_name": "Python 3 (ipykernel)",
   "language": "python",
   "name": "python3"
  },
  "language_info": {
   "codemirror_mode": {
    "name": "ipython",
    "version": 3
   },
   "file_extension": ".py",
   "mimetype": "text/x-python",
   "name": "python",
   "nbconvert_exporter": "python",
   "pygments_lexer": "ipython3",
   "version": "3.9.10"
  }
 },
 "nbformat": 4,
 "nbformat_minor": 5
}
