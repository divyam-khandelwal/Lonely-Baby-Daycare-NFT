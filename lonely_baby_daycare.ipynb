{
 "cells": [
  {
   "cell_type": "markdown",
   "id": "84ae5b30",
   "metadata": {},
   "source": [
    "## Google Drive Authentication"
   ]
  },
  {
   "cell_type": "code",
   "execution_count": 15,
   "id": "2dc49869",
   "metadata": {},
   "outputs": [
    {
     "name": "stdout",
     "output_type": "stream",
     "text": [
      "Please visit this URL to authorize this application: https://accounts.google.com/o/oauth2/auth?response_type=code&client_id=580813343747-40ut7bhct6qh73nbbvfcpd94l491piv7.apps.googleusercontent.com&redirect_uri=http%3A%2F%2Flocalhost%3A61451%2F&scope=https%3A%2F%2Fwww.googleapis.com%2Fauth%2Fdrive&state=XDskjI3WnjOOelodJ0BngqZ4HZJSZo&access_type=offline\n",
      "** Authentication Complete! **\n"
     ]
    }
   ],
   "source": [
    "# from pydrive.auth import GoogleAuth\n",
    "# from pydrive.drive import GoogleDrive\n",
    "\n",
    "# gauth = GoogleAuth()\n",
    "# gauth.LocalWebserverAuth() # client_secrets.json need to be in the same directory as the script\n",
    "# drive = GoogleDrive(gauth)\n",
    "\n",
    "# from __future__ import print_function\n",
    "\n",
    "import os.path\n",
    "\n",
    "from google.auth.transport.requests import Request\n",
    "from google.oauth2.credentials import Credentials\n",
    "from google_auth_oauthlib.flow import InstalledAppFlow\n",
    "from googleapiclient.discovery import build\n",
    "from googleapiclient.errors import HttpError\n",
    "\n",
    "# If modifying these scopes, delete the file token.json.\n",
    "SCOPES = ['https://www.googleapis.com/auth/drive']\n",
    "\n",
    "\n",
    "creds = None\n",
    "# The file token.json stores the user's access and refresh tokens, and is\n",
    "# created automatically when the authorization flow completes for the first\n",
    "# time.\n",
    "if os.path.exists('token.json'):\n",
    "    creds = Credentials.from_authorized_user_file('token.json', SCOPES)\n",
    "# If there are no (valid) credentials available, let the user log in.\n",
    "if not creds or not creds.valid:\n",
    "    if creds and creds.expired and creds.refresh_token:\n",
    "        creds.refresh(Request())\n",
    "    else:\n",
    "        flow = InstalledAppFlow.from_client_secrets_file(\n",
    "            'credentials.json', SCOPES)\n",
    "        creds = flow.run_local_server(port=0)\n",
    "    # Save the credentials for the next run\n",
    "    with open('token.json', 'w') as token:\n",
    "        token.write(creds.to_json())\n",
    "\n",
    "try:\n",
    "    service = build('drive', 'v3', credentials=creds)\n",
    "\n",
    "    print(\"** Authentication Complete! **\")\n",
    "\n",
    "except HttpError as error:\n",
    "    # TODO(developer) - Handle errors from drive API.\n",
    "    print(f'An error occurred: {error}')\n"
   ]
  },
  {
   "cell_type": "markdown",
   "id": "1b5c13f1",
   "metadata": {},
   "source": [
    "## Google Drive API helper functions"
   ]
  },
  {
   "cell_type": "code",
   "execution_count": 22,
   "id": "60a90598",
   "metadata": {},
   "outputs": [],
   "source": [
    "import io\n",
    "from googleapiclient.http import MediaIoBaseDownload\n",
    "\n",
    "def getFolderId(service, folderName: str):\n",
    "    query = \"name contains '%s' and mimeType = '%s'\" % (folderName, 'application/vnd.google-apps.folder')\n",
    "\n",
    "    fid = None\n",
    "\n",
    "    if folderName.startswith('+'):\n",
    "        return (folderName[1:])\n",
    "\n",
    "    result = service.files().list(q=query,\n",
    "                                  pageSize=10, pageToken='',\n",
    "                                  fields=\"nextPageToken,files(parents,id,name,mimeType)\").execute()\n",
    "  \n",
    "    if len(result['files']) == 0:\n",
    "        print(\"Folder NOT found\")\n",
    "    else:\n",
    "        folder = result.get('files')[0]\n",
    "        fid = folder['id']\n",
    "\n",
    "    return (fid)\n",
    "\n",
    "    \n",
    "def downloadFolder(service, fileId, destinationFolder):\n",
    "    if not os.path.isdir(destinationFolder):\n",
    "        os.mkdir(path=destinationFolder)\n",
    "\n",
    "    results = service.files().list(\n",
    "        pageSize=300,\n",
    "        q=\"parents in '{0}'\".format(fileId),\n",
    "        fields=\"files(id, name, mimeType)\"\n",
    "        ).execute()\n",
    "\n",
    "    items = results.get('files', [])\n",
    "\n",
    "    for item in items:\n",
    "        itemName = item['name']\n",
    "        itemId = item['id']\n",
    "        itemType = item['mimeType']\n",
    "        filePath = destinationFolder + \"/\" + itemName\n",
    "\n",
    "        if itemType == 'application/vnd.google-apps.folder':\n",
    "            downloadFolder(service, itemId, filePath) # Recursive call\n",
    "            print(\"Downloaded folder: {0}\".format(itemName))\n",
    "        elif not itemType.startswith('application/'):\n",
    "            downloadFile(service, itemId, filePath)\n",
    "        else:\n",
    "            print(\"Unsupported file: {0}\".format(itemName))\n",
    "\n",
    "\n",
    "def downloadFile(service, fileId, filePath):\n",
    "    # Note: The parent folders in filePath must exist\n",
    "    request = service.files().get_media(fileId=fileId)\n",
    "    fh = io.FileIO(filePath, mode='wb')\n",
    "    \n",
    "    try:\n",
    "        downloader = MediaIoBaseDownload(fh, request, chunksize=1024*1024)\n",
    "\n",
    "        done = False\n",
    "        while done is False:\n",
    "            status, done = downloader.next_chunk(num_retries = 2)\n",
    "    finally:\n",
    "        fh.close()"
   ]
  },
  {
   "cell_type": "markdown",
   "id": "50ec2e81",
   "metadata": {},
   "source": [
    "## Download Trait Files!"
   ]
  },
  {
   "cell_type": "code",
   "execution_count": 23,
   "id": "13192f43",
   "metadata": {},
   "outputs": [
    {
     "name": "stdout",
     "output_type": "stream",
     "text": [
      "Downloaded folder: Patches\n",
      "Downloaded folder: Baseball cap\n",
      "Downloaded folder: Flag Patches\n",
      "Downloaded folder: Patches\n",
      "Downloaded folder: Beanies\n",
      "Downloaded folder: Bucket hats\n",
      "Downloaded folder: Hats\n",
      "Downloaded folder: Undergarment upper\n",
      "Downloaded folder: Undergarment lower\n",
      "Downloaded folder: Sneakers\n",
      "Downloaded folder: Shoes\n",
      "Downloaded folder: Short pants\n",
      "Downloaded folder: Hoodies\n",
      "Downloaded folder: Long sleeves\n",
      "Downloaded folder: Surgical masks\n",
      "Downloaded folder: Jeans\n",
      "Downloaded folder: Long pants\n",
      "Downloaded folder: Eaten\n",
      "Downloaded folder: Crying\n",
      "Downloaded folder: Angry\n",
      "Downloaded folder: Neutral\n",
      "Downloaded folder: Original Yellow bodies\n",
      "Downloaded folder: Body + Face\n"
     ]
    }
   ],
   "source": [
    "import os, shutil\n",
    "\n",
    "base_filepath = 'Traits'\n",
    "\n",
    "# Delete previously downloaded trait files\n",
    "if os.path.isdir(base_filepath):\n",
    "    shutil.rmtree(base_filepath)\n",
    "\n",
    "traits_folder_id = getFolderId(service, base_filepath)\n",
    "\n",
    "downloadFolder(service, traits_folder_id, base_filepath)"
   ]
  },
  {
   "cell_type": "markdown",
   "id": "23226be1",
   "metadata": {},
   "source": [
    "## Display Downloaded Traits [TODO]"
   ]
  },
  {
   "cell_type": "code",
   "execution_count": 24,
   "id": "b52a3b7b",
   "metadata": {},
   "outputs": [
    {
     "ename": "NotADirectoryError",
     "evalue": "[Errno 20] Not a directory: 'Traits/.DS_Store'",
     "output_type": "error",
     "traceback": [
      "\u001b[0;31m---------------------------------------------------------------------------\u001b[0m",
      "\u001b[0;31mNotADirectoryError\u001b[0m                        Traceback (most recent call last)",
      "\u001b[0;32m/var/folders/w7/fyyp_r3x0kx0tqg_j_gyk7ph0000gn/T/ipykernel_54171/4215194665.py\u001b[0m in \u001b[0;36m<module>\u001b[0;34m\u001b[0m\n\u001b[1;32m      9\u001b[0m \u001b[0;34m\u001b[0m\u001b[0m\n\u001b[1;32m     10\u001b[0m     \u001b[0mtrait_images\u001b[0m \u001b[0;34m=\u001b[0m \u001b[0;34m[\u001b[0m\u001b[0;34m]\u001b[0m\u001b[0;34m\u001b[0m\u001b[0;34m\u001b[0m\u001b[0m\n\u001b[0;32m---> 11\u001b[0;31m     \u001b[0;32mfor\u001b[0m \u001b[0mtrait_image\u001b[0m \u001b[0;32min\u001b[0m \u001b[0mos\u001b[0m\u001b[0;34m.\u001b[0m\u001b[0mlistdir\u001b[0m\u001b[0;34m(\u001b[0m\u001b[0mtf\u001b[0m\u001b[0;34m)\u001b[0m\u001b[0;34m:\u001b[0m\u001b[0;34m\u001b[0m\u001b[0;34m\u001b[0m\u001b[0m\n\u001b[0m\u001b[1;32m     12\u001b[0m         \u001b[0mti\u001b[0m \u001b[0;34m=\u001b[0m \u001b[0mos\u001b[0m\u001b[0;34m.\u001b[0m\u001b[0mpath\u001b[0m\u001b[0;34m.\u001b[0m\u001b[0mjoin\u001b[0m\u001b[0;34m(\u001b[0m\u001b[0mrootdir\u001b[0m\u001b[0;34m,\u001b[0m \u001b[0mtrait_folder\u001b[0m\u001b[0;34m,\u001b[0m \u001b[0mtrait_image\u001b[0m\u001b[0;34m)\u001b[0m\u001b[0;34m\u001b[0m\u001b[0;34m\u001b[0m\u001b[0m\n\u001b[1;32m     13\u001b[0m         \u001b[0mimages\u001b[0m\u001b[0;34m.\u001b[0m\u001b[0mappend\u001b[0m\u001b[0;34m(\u001b[0m\u001b[0mti\u001b[0m\u001b[0;34m)\u001b[0m\u001b[0;34m\u001b[0m\u001b[0;34m\u001b[0m\u001b[0m\n",
      "\u001b[0;31mNotADirectoryError\u001b[0m: [Errno 20] Not a directory: 'Traits/.DS_Store'"
     ]
    }
   ],
   "source": [
    "import ipyplot\n",
    "\n",
    "rootdir = 'Traits'\n",
    "labels = []\n",
    "images = []\n",
    "\n",
    "for trait_folder in os.listdir(rootdir):\n",
    "    tf = os.path.join(rootdir, trait_folder)\n",
    "    \n",
    "    trait_images = []\n",
    "    for trait_image in os.listdir(tf):\n",
    "        ti = os.path.join(rootdir, trait_folder, trait_image)\n",
    "        images.append(ti)\n",
    "        labels.append(trait_folder)\n",
    "    \n",
    "ipyplot.plot_class_tabs(images, labels, max_imgs_per_tab=10, img_width=300)"
   ]
  },
  {
   "cell_type": "markdown",
   "id": "96bc0f04",
   "metadata": {},
   "source": [
    "## Set trait conditions for layering"
   ]
  },
  {
   "cell_type": "code",
   "execution_count": null,
   "id": "824270b4",
   "metadata": {},
   "outputs": [],
   "source": [
    "ordered_traits = [\n",
    " ['Body + Face'],\n",
    "# Undergarments for lower\n",
    "# Undergarments for upper\n",
    "# Shoes\n",
    "# Short pants, Long pants\n",
    "# Long sleeves\n",
    "# Surgical Masks\n",
    "# ['Beanie and flags', 'Bucket hats', 'Baseball Cap + Patches']\n",
    " ['Beanie and flags', 'Bucket hats', 'Baseball Cap + Patches'],\n",
    " ['Surgical masks'],\n",
    " ['Undergarments', 'Long pants', 'Short pants'],\n",
    " ['Long sleeves'],\n",
    " ['Shoes']\n",
    "]\n",
    "\n",
    "background_colors = []\n",
    "\n",
    "assert len(list(set(labels))) == len([item for sublist in ordered_traits for item in sublist])\n",
    "\n",
    "images_count = 50"
   ]
  },
  {
   "cell_type": "code",
   "execution_count": null,
   "id": "d4644503",
   "metadata": {},
   "outputs": [],
   "source": [
    "import random\n",
    "from PIL import Image\n",
    "\n",
    "label_images_dict = {}\n",
    "for (image, label) in zip(images, labels):\n",
    "    if label not in label_images_dict:\n",
    "        label_images_dict[label] = set()\n",
    "    label_images_dict[label].add(image)\n",
    "    \n",
    "base_file_path = 'Babies/'\n",
    "\n",
    "# Delete previously created baby files\n",
    "if os.path.isdir(base_file_path):\n",
    "    shutil.rmtree(base_file_path)\n",
    "\n",
    "os.mkdir(base_file_path)\n",
    "        \n",
    "        \n",
    "random_baby_image_file = list(label_images_dict['Body + Face'])[0]\n",
    "random_baby_image = Image.open(random_baby_image_file)\n",
    "x, y = random_baby_image.size\n",
    "\n",
    "for i in range(images_count):\n",
    "    final_baby_image = Image.new('RGB', (x, y), (228, 150, 150))\n",
    "\n",
    "    for trait_type in ordered_traits:\n",
    "        chosen_trait = random.choice(trait_type)\n",
    "        chosen_image_file = random.choice(list(label_images_dict[chosen_trait]))\n",
    "\n",
    "        chosen_image = Image.open(chosen_image_file)\n",
    "        final_baby_image.paste(chosen_image, (0, 0), chosen_image)\n",
    "\n",
    "    final_baby_image.save(base_file_path + '{:d}_ugly_baby.PNG'.format(i))\n",
    "\n",
    "print(\"** Image generation complete! **\")"
   ]
  },
  {
   "cell_type": "code",
   "execution_count": null,
   "id": "3490183d",
   "metadata": {},
   "outputs": [],
   "source": [
    "# Initialize GoogleDriveFile instance with file id.\n",
    "file1 = drive.CreateFile({'id': <file-id>})\n",
    "\n",
    "file1.Trash()  # Move file to trash.\n",
    "file1.UnTrash()  # Move file out of trash.\n",
    "file1.Delete()  # Permanently delete the file.\n",
    "\n",
    "\n",
    "img = Image.open('upper_apparel/white_vest.jpg')\n",
    "img = img.convert(\"RGBA\")\n",
    "\n",
    "pixdata = img.load()\n",
    "\n",
    "width, height = img.size\n",
    "for y in range(height):\n",
    "    for x in range(width):\n",
    "        if pixdata[x, y] == (255, 255, 255, 255):\n",
    "            pixdata[x, y] = (255, 255, 255, 0)\n",
    "            \n",
    "img.save(\"processed_white_vest.png\", \"PNG\")"
   ]
  }
 ],
 "metadata": {
  "kernelspec": {
   "display_name": "Python 3 (ipykernel)",
   "language": "python",
   "name": "python3"
  },
  "language_info": {
   "codemirror_mode": {
    "name": "ipython",
    "version": 3
   },
   "file_extension": ".py",
   "mimetype": "text/x-python",
   "name": "python",
   "nbconvert_exporter": "python",
   "pygments_lexer": "ipython3",
   "version": "3.9.1"
  }
 },
 "nbformat": 4,
 "nbformat_minor": 5
}
